{
 "cells": [
  {
   "cell_type": "code",
   "execution_count": 1,
   "metadata": {},
   "outputs": [],
   "source": [
    "%reload_ext autoreload\n",
    "%autoreload 2\n",
    "%matplotlib inline"
   ]
  },
  {
   "cell_type": "code",
   "execution_count": 2,
   "metadata": {},
   "outputs": [],
   "source": [
    "import torch\n",
    "torch.cuda.set_device(0)\n",
    "from fastai import *\n",
    "from fastai.text import *\n",
    "from pathlib import Path\n",
    "import pickle\n",
    "import fastText as ft\n",
    "from collections import defaultdict"
   ]
  },
  {
   "cell_type": "code",
   "execution_count": 3,
   "metadata": {},
   "outputs": [],
   "source": [
    "PATH=Path('/mnt/data/extracts/translate')\n",
    "DATA=PATH/'data/'\n",
    "TMP=PATH/'tmp/'\n",
    "TMP.mkdir(exist_ok=True)\n",
    "MODELS=Path('/mnt/models/translate')"
   ]
  },
  {
   "cell_type": "markdown",
   "metadata": {},
   "source": [
    "## Load Data"
   ]
  },
  {
   "cell_type": "code",
   "execution_count": 4,
   "metadata": {},
   "outputs": [],
   "source": [
    "qs = pickle.load((DATA/'fr-en-qs.pkl').open('rb'))\n",
    "en_qs, fr_qs = zip(*qs)"
   ]
  },
  {
   "cell_type": "code",
   "execution_count": 5,
   "metadata": {},
   "outputs": [],
   "source": [
    "en_tok = pickle.load((DATA/'en_tok.pkl').open('rb'))\n",
    "fr_tok = pickle.load((DATA/'fr_tok.pkl').open('rb'))"
   ]
  },
  {
   "cell_type": "code",
   "execution_count": 30,
   "metadata": {},
   "outputs": [],
   "source": [
    "def tok2ids(tok, lim=40000):\n",
    "    flat = [w for l in tok for w in l]\n",
    "    toi = Counter(flat).most_common(lim)\n",
    "    itos = [o for o, c in toi]\n",
    "    itos.insert(0, '_bos_')\n",
    "    itos.insert(1, '_pad_')\n",
    "    itos.insert(2, '_eos_')\n",
    "    itos.insert(3, '_unk')\n",
    "    stoi = {t:i for i, t in enumerate(itos)}\n",
    "    ids = [([stoi[t] for t in q] + [2]) for q in tok]\n",
    "    return ids, itos, stoi"
   ]
  },
  {
   "cell_type": "code",
   "execution_count": 7,
   "metadata": {},
   "outputs": [],
   "source": [
    "fr_ids, fr_itos, fr_stoi = tok2ids(fr_tok)\n",
    "en_ids, en_itos, en_stoi = tok2ids(en_tok)"
   ]
  },
  {
   "cell_type": "markdown",
   "metadata": {},
   "source": [
    "## Load Embeddings"
   ]
  },
  {
   "cell_type": "code",
   "execution_count": 194,
   "metadata": {},
   "outputs": [],
   "source": [
    "en_ft = ft.load_model(str((DATA/'wiki.en.bin')))\n",
    "fr_ft = ft.load_model(str((DATA/'wiki.fr.bin')))\n",
    "\n",
    "def get_vecs(ftxt):\n",
    "    return {w: ftxt.get_word_vector(w) for w in ftxt.get_words()}\n",
    "\n",
    "en_vecs = get_vecs(en_ft)\n",
    "fr_vecs = get_vecs(fr_ft)"
   ]
  },
  {
   "cell_type": "code",
   "execution_count": 8,
   "metadata": {},
   "outputs": [],
   "source": [
    "en_vecs = pickle.load(open(DATA/'wiki.en.pkl','rb'))\n",
    "fr_vecs = pickle.load(open(DATA/'wiki.fr.pkl','rb'))"
   ]
  },
  {
   "cell_type": "markdown",
   "metadata": {},
   "source": [
    "## Create Data Loaders"
   ]
  },
  {
   "cell_type": "code",
   "execution_count": 9,
   "metadata": {},
   "outputs": [],
   "source": [
    "class Seq2SeqDataset(Dataset):\n",
    "    def __init__(self, x, y): \n",
    "        super(Seq2SeqDataset, self).__init__()\n",
    "        self.x = x\n",
    "        self.y = y\n",
    "        \n",
    "    def __getitem__(self, i):\n",
    "        return A(self.x[i], self.y[i])\n",
    "        \n",
    "    def __len__(self):\n",
    "        return len(self.x)"
   ]
  },
  {
   "cell_type": "code",
   "execution_count": 10,
   "metadata": {},
   "outputs": [],
   "source": [
    "en_cutoff = int(np.percentile([len(q) for q in en_ids], q=97))\n",
    "fr_cutoff = int(np.percentile([len(q) for q in fr_ids], q=95))"
   ]
  },
  {
   "cell_type": "code",
   "execution_count": 11,
   "metadata": {},
   "outputs": [],
   "source": [
    "en_arr = np.array([q[:en_cutoff] for q in en_ids])\n",
    "fr_arr = np.array([q[:fr_cutoff] for q in fr_ids])"
   ]
  },
  {
   "cell_type": "code",
   "execution_count": 17,
   "metadata": {},
   "outputs": [],
   "source": [
    "np.random.seed(42)\n",
    "val_idx = np.random.rand(len(en_arr)) <= 0.1\n",
    "en_tr, fr_tr = en_arr[~val_idx], fr_arr[~val_idx]\n",
    "en_val, fr_val = en_arr[val_idx], fr_arr[val_idx]"
   ]
  },
  {
   "cell_type": "code",
   "execution_count": 19,
   "metadata": {},
   "outputs": [],
   "source": [
    "trn_ds = Seq2SeqDataset(fr_tr, en_tr)\n",
    "val_ds = Seq2SeqDataset(fr_val, en_val)"
   ]
  },
  {
   "cell_type": "code",
   "execution_count": 20,
   "metadata": {},
   "outputs": [],
   "source": [
    "bs = 125\n",
    "tr_samp = SortishSampler(en_tr, key=lambda x: len(en_tr[x]), bs=bs)\n",
    "val_samp = SortSampler(en_val, key=lambda x: len(en_val[x]))"
   ]
  },
  {
   "cell_type": "code",
   "execution_count": 21,
   "metadata": {},
   "outputs": [],
   "source": [
    "trn_dl = DataLoader(trn_ds, batch_size=bs, sampler=tr_samp, transpose=True, transpose_y=True,\n",
    "                    pre_pad=False, pad_idx=1, num_workers=1)\n",
    "val_dl = DataLoader(val_ds, batch_size=bs, sampler=val_samp, transpose=True, transpose_y=True, \n",
    "                   pre_pad=False, pad_idx=1, num_workers=1)\n",
    "md = ModelData(TMP, trn_dl, val_dl)"
   ]
  },
  {
   "cell_type": "code",
   "execution_count": 22,
   "metadata": {},
   "outputs": [
    {
     "data": {
      "text/plain": [
       "24793"
      ]
     },
     "execution_count": 22,
     "metadata": {},
     "output_type": "execute_result"
    }
   ],
   "source": [
    "len(fr_itos)"
   ]
  },
  {
   "cell_type": "markdown",
   "metadata": {},
   "source": [
    "## Create Seq2SeqRNN"
   ]
  },
  {
   "cell_type": "code",
   "execution_count": 23,
   "metadata": {},
   "outputs": [],
   "source": [
    "def create_embedding(itos, ft_vecs):\n",
    "    vs = len(itos)\n",
    "    emb_sz = list(en_vecs.values())[0].shape[0]\n",
    "    miss = []\n",
    "    emb = nn.Embedding(vs, emb_sz)\n",
    "    wgt = emb.weight.data\n",
    "    for i, w in enumerate(itos):\n",
    "        try:\n",
    "            wgt[i] = torch.from_numpy(ft_vecs[w]*3)\n",
    "        except KeyError:\n",
    "            miss.append(w)\n",
    "    print(len(miss))\n",
    "    return emb"
   ]
  },
  {
   "cell_type": "code",
   "execution_count": 37,
   "metadata": {},
   "outputs": [],
   "source": [
    "class Seq2SeqRNN(nn.Module):\n",
    "    def __init__(self, en_itos, fr_itos, enc_hidden, en_cutoff, nl=2):\n",
    "        super(Seq2SeqRNN, self).__init__()\n",
    "        en_vs = len(en_itos)\n",
    "        fr_vs = len(fr_itos)\n",
    "        emb_sz = list(en_vecs.values())[0].shape[0]\n",
    "        self.enc_emb = create_embedding(fr_itos, fr_vecs)\n",
    "        self.enc_drop = nn.Dropout(0.15)\n",
    "        self.enc_gru = nn.GRU(emb_sz, enc_hidden, num_layers=nl, dropout=0.25)\n",
    "        self.enc_out = nn.Linear(enc_hidden, emb_sz, bias=False)\n",
    "        \n",
    "        self.dec_emb = create_embedding(en_itos, en_vecs)\n",
    "        self.dec_drop = nn.Dropout(0.15)\n",
    "        self.dec_gru = nn.GRU(emb_sz, emb_sz, num_layers=nl, dropout=0.25)\n",
    "        self.out = nn.Linear(emb_sz, en_vs)\n",
    "        self.out.weight.data = self.dec_emb.weight.data\n",
    "        \n",
    "        self.enc_hidden = enc_hidden\n",
    "        self.en_cutoff = en_cutoff\n",
    "        self.emb_sz = emb_sz\n",
    "        \n",
    "    def forward(self, x):\n",
    "        seq_len = x.size()[0]\n",
    "        bs = x.size()[1]\n",
    "        x = self.enc_emb(x)\n",
    "        x = self.enc_drop(x)\n",
    "        enc_out, enc_h = self.enc_gru(x)\n",
    "        \n",
    "        dec_h = self.enc_out(enc_h)\n",
    "        out_char = to_gpu(V(torch.zeros(bs)).long())\n",
    "        outl = []\n",
    "        for i in range(en_cutoff):\n",
    "            dec_inp = self.dec_emb(out_char)\n",
    "            dec_inp = dec_inp.unsqueeze(0)\n",
    "            dec_out, dec_h = self.dec_gru(dec_inp, dec_h)\n",
    "            out = self.out(self.dec_drop(dec_out[-1]))\n",
    "            outl.append(out)\n",
    "            out_char = torch.max(out, 1)[-1]\n",
    "            if np.all(out_char.data.cpu().numpy() == 2):\n",
    "                break\n",
    "        return torch.stack(outl)"
   ]
  },
  {
   "cell_type": "code",
   "execution_count": 38,
   "metadata": {},
   "outputs": [],
   "source": [
    "def cross_loss(inp, tar):\n",
    "    inp = inp.t()\n",
    "    tar = tar.t()\n",
    "    orig_in = inp\n",
    "    orig_tar = tar\n",
    "    bs_in, sl_in, nc = inp.size()\n",
    "    bs_t, sl_t = tar.size()\n",
    "    if sl_t > sl_in: inp = F.pad(inp, (0, 0, 0, sl_t - sl_in, 0, 0))\n",
    "    inp = inp[:, :sl_t]\n",
    "    inp = inp.contiguous().view(-1, nc)\n",
    "    tar = tar.contiguous().view(-1)\n",
    "    return F.cross_entropy(inp, tar)"
   ]
  },
  {
   "cell_type": "code",
   "execution_count": 39,
   "metadata": {},
   "outputs": [
    {
     "name": "stdout",
     "output_type": "stream",
     "text": [
      "3097\n",
      "1285\n"
     ]
    }
   ],
   "source": [
    "nh = 256\n",
    "s2s = to_gpu(Seq2SeqRNN(en_itos, fr_itos, nh, en_cutoff))\n",
    "opt_fn = partial(optim.Adam, betas=(0.8, 0.99))\n",
    "learn = RNN_Learner(md, SingleModel(s2s), opt_fn=opt_fn)\n",
    "learn.crit = cross_loss"
   ]
  },
  {
   "cell_type": "code",
   "execution_count": 27,
   "metadata": {},
   "outputs": [
    {
     "data": {
      "application/vnd.jupyter.widget-view+json": {
       "model_id": "aec5e01c31a94e9993544f4acb778285",
       "version_major": 2,
       "version_minor": 0
      },
      "text/plain": [
       "HBox(children=(IntProgress(value=0, description='Epoch', max=1), HTML(value='')))"
      ]
     },
     "metadata": {},
     "output_type": "display_data"
    },
    {
     "name": "stdout",
     "output_type": "stream",
     "text": [
      " 60%|██████    | 219/362 [01:08<00:44,  3.22it/s, loss=30]  "
     ]
    },
    {
     "data": {
      "image/png": "[encoded data removed]",
      "text/plain": [
       "<Figure size 432x288 with 1 Axes>"
      ]
     },
     "metadata": {},
     "output_type": "display_data"
    }
   ],
   "source": [
    "learn.lr_find()\n",
    "learn.sched.plot()"
   ]
  },
  {
   "cell_type": "code",
   "execution_count": 41,
   "metadata": {},
   "outputs": [
    {
     "data": {
      "application/vnd.jupyter.widget-view+json": {
       "model_id": "3cff1b8592894b3693e96f730e3a34ee",
       "version_major": 2,
       "version_minor": 0
      },
      "text/plain": [
       "HBox(children=(IntProgress(value=0, description='Epoch', max=1), HTML(value='')))"
      ]
     },
     "metadata": {},
     "output_type": "display_data"
    },
    {
     "name": "stdout",
     "output_type": "stream",
     "text": [
      "epoch      trn_loss   val_loss                              \n",
      "    0      4.388487   4.709287  \n",
      "\n"
     ]
    },
    {
     "data": {
      "text/plain": [
       "[array([4.70929])]"
      ]
     },
     "execution_count": 41,
     "metadata": {},
     "output_type": "execute_result"
    }
   ],
   "source": [
    "learn.fit(3e-3, 1, cycle_len=1, use_clr=(20, 10))"
   ]
  },
  {
   "cell_type": "code",
   "execution_count": 42,
   "metadata": {
    "collapsed": true
   },
   "outputs": [
    {
     "name": "stdout",
     "output_type": "stream",
     "text": [
      "_bos_ pouvez - vous dire comment votre bagage culturel vous a aidée à aborder votre nouvelle vie au canada ( à vous adapter au mode de vie canadien ) ? _eos_\n",
      "_bos_ what are some things from your cultural background that have helped you navigate canadian life ( helped you adjust to life in canada ) ? _eos_\n",
      "_bos_ what do you you you to to to to to to to to to to ? ? ? _eos_ _eos_ ? ? ? _eos_ ? _eos_\n",
      "\n",
      "_bos_ pour la gestion de crises , pour la défense du territoire , pour la lutte contre les nouvelles menaces terroristes , pour la projection de forces à l' extérieur du\n",
      "_bos_ where do our interests lie as regards management of crises , defending europe , fighting new terrorist threats , deployment of forces outside europe and armament\n",
      "_bos_ what is the the the the the the the the the the the and and the ? ? _eos_ _eos_ ? ? ? _eos_ ? _eos_\n",
      "\n",
      "_bos_ quelles mesures sont prises par les pouvoirs publics assurer la qualité des services sociaux , en particulier les services rendus par les prestataires privés comme le croissant rouge ? _eos_\n",
      "_bos_ what measures are taken by the authorities to ensure the quality of services , particularly ones provided by private bodies such as the red crescent ?\n",
      "_bos_ what are the the the the the the the the and and and and and and ? ? _eos_ _eos_ ? ? ? _eos_ _eos_\n",
      "\n",
      "_bos_ quelles sont les priorités cernées au niveau de l' entente et sont - elles articulées d' une façon qui permet aux partenaires d' allouer les ressources de manière stratégique ?\n",
      "_bos_ what are the priorities identified at the agreement level and are they articulated in a manner that enables partners to allocate resources in a manner that\n",
      "_bos_ what are the the the the the the the the the and and and and and ? ? _eos_ _eos_ ? ? ? _eos_ ?\n",
      "\n",
      "_bos_ que peut faire le gouvernement britannique pour éviter que les communautés musulmanes ne soient pas marginalisées du fait des mesures ou de la politique antiterroristes du gouvernement ? _eos_\n",
      "_bos_ what can the uk government do to ensure that muslim communities are not marginalised as a result of government anti - terror measures or policy ?\n",
      "_bos_ what do the the to to to the to the the the the ? ? ? _eos_ ? _eos_ ? ? ? _eos_ _eos_\n",
      "\n",
      "_bos_ quelles sont les initiatives que les organisations musulmanes devraient prendre pour soutenir la cohésion de la communauté et éviter la marginalisation des musulmans à la suite des attentats de londres\n",
      "_bos_ what initiatives should be taken by muslim organisations to support community cohesion and to avert marginalisaton of muslims in the aftermath of the london bombings ?\n",
      "_bos_ what are the the the the the the the and and and and and and and and ? ? _eos_ ? _eos_ ? ? ? _eos_\n",
      "\n",
      "_bos_ que pensez - vous des critiques formulées par le parlement à l' encontre de la t_up das , telles qu' énoncées dans le rapport sur la décharge 2003 et les\n",
      "_bos_ what do you think of parliament 's criticisms of the t_up das as expressed in the 2003 discharge report and the working documents to the financial\n",
      "_bos_ what do the to to to to to to to to the the to the ? ? ? ? _eos_ _eos_ ? ? ? _eos_ ?\n",
      "\n",
      "_bos_ quel est le rôle actuel du conseil consultatif public établi sous l’ égide du groupe de travail joint de l’ t_up apce et de la douma d’ etat russe ?\n",
      "_bos_ what is the current role of the public consultative council established under the aegis of the joint working group of the t_up pace and the russian\n",
      "_bos_ what is the the the the the the the the the the the the the ? ? _eos_ _eos_ ? ? ? _eos_ ? _eos_\n",
      "\n",
      "_bos_ comment oublier le sourire joyeux de cindy klassen , qui a gagné cinq médailles , y compris l’ or , en patinage de vitesse , devenant ainsi l’ athlète la\n",
      "_bos_ who could forget the joyous smile of cindy klassen , who won five medals , including gold , in speedskating to become canada ’s most decorated\n",
      "_bos_ what is the the the the the the the the the the the the ? ? ? ? _eos_ _eos_ ? ? ? _eos_ ? _eos_\n",
      "\n",
      "_bos_ pourquoi n’ avait - il pas mentionné son frère lorsqu’ on lui a demandé d’ énumérer les noms des membres de sa famille immédiate ayant participé à une activité criminelle\n",
      "_bos_ why had he not mentioned his brother when he was asked to list the names of any immediate family members who had been involved in criminal\n",
      "_bos_ why if if the to to to to to the the the the ? ? ? ? _eos_ _eos_ ? ? ? _eos_ ? _eos_\n",
      "\n"
     ]
    }
   ],
   "source": [
    "x,y = next(iter(val_dl))\n",
    "probs = s2s(V(x))\n",
    "preds = to_np(probs.max(2)[1])\n",
    "\n",
    "for i in range(100, 110):\n",
    "    print(' '.join([fr_itos[o] for o in x[:,i] if o != 1]))\n",
    "    print(' '.join([en_itos[o] for o in y[:,i] if o != 1]))\n",
    "    print(' '.join([en_itos[o] for o in preds[:, i] if o!=1]))\n",
    "    print()"
   ]
  },
  {
   "cell_type": "markdown",
   "metadata": {},
   "source": [
    "## Bidirectional RNN"
   ]
  },
  {
   "cell_type": "code",
   "execution_count": 65,
   "metadata": {},
   "outputs": [],
   "source": [
    "class Seq2SeqRNN_bidir(nn.Module):\n",
    "    def __init__(self, en_itos, fr_itos, enc_hidden, en_cutoff, nl=2):\n",
    "        super(Seq2SeqRNN_bidir, self).__init__()\n",
    "        en_vs = len(en_itos)\n",
    "        fr_vs = len(fr_itos)\n",
    "        emb_sz = list(en_vecs.values())[0].shape[0]\n",
    "        self.enc_emb = create_embedding(fr_itos, fr_vecs)\n",
    "        self.enc_drop = nn.Dropout(0.15)\n",
    "        self.enc_gru = nn.GRU(emb_sz, enc_hidden, num_layers=nl, dropout=0.25, bidirectional=True)\n",
    "        self.enc_out = nn.Linear(enc_hidden*2, emb_sz, bias=False)\n",
    "        \n",
    "        self.dec_emb = create_embedding(en_itos, en_vecs)\n",
    "        self.dec_drop = nn.Dropout(0.15)\n",
    "        self.dec_gru = nn.GRU(emb_sz, emb_sz, num_layers=nl, dropout=0.25)\n",
    "        self.out = nn.Linear(emb_sz, en_vs)\n",
    "        self.out.weight.data = self.dec_emb.weight.data\n",
    "        \n",
    "        self.enc_hidden = enc_hidden\n",
    "        self.en_cutoff = en_cutoff\n",
    "        self.emb_sz = emb_sz\n",
    "        \n",
    "    def forward(self, x):\n",
    "        seq_len = x.size()[0]\n",
    "        bs = x.size()[1]\n",
    "        x = self.enc_emb(x)\n",
    "        x = self.enc_drop(x)\n",
    "        enc_out, enc_h = self.enc_gru(x)\n",
    "        enc_h = enc_h.view(2, 2, bs, -1).permute(0, 2, 1, 3).contiguous().view(2, bs, -1)\n",
    "        dec_h = self.enc_out(enc_h)\n",
    "        out_char = to_gpu(V(torch.zeros(bs)).long()) \n",
    "        outl = []\n",
    "        for i in range(en_cutoff):\n",
    "            dec_inp = self.dec_emb(out_char)\n",
    "            dec_inp = dec_inp.unsqueeze(0)\n",
    "            dec_out, dec_h = self.dec_gru(dec_inp, dec_h)\n",
    "            out = self.out(self.dec_drop(dec_out[-1]))\n",
    "            outl.append(out)\n",
    "            out_char = torch.max(out, 1)[-1]\n",
    "            if np.all(out_char.data.cpu().numpy() == 2):\n",
    "                break\n",
    "        return torch.stack(outl)"
   ]
  },
  {
   "cell_type": "code",
   "execution_count": 70,
   "metadata": {},
   "outputs": [
    {
     "name": "stdout",
     "output_type": "stream",
     "text": [
      "3097\n",
      "1285\n"
     ]
    }
   ],
   "source": [
    "s2s_bidir = to_gpu(Seq2SeqRNN_bidir(en_itos, fr_itos, nh, en_cutoff))\n",
    "opt_fn = partial(optim.Adam, betas=(0.8, 0.99))\n",
    "learn = RNN_Learner(md, SingleModel(s2s_bidir), opt_fn=opt_fn)\n",
    "learn.crit = cross_loss"
   ]
  },
  {
   "cell_type": "code",
   "execution_count": 71,
   "metadata": {},
   "outputs": [
    {
     "data": {
      "application/vnd.jupyter.widget-view+json": {
       "model_id": "54caf307feb6439aa94722d92f28a47d",
       "version_major": 2,
       "version_minor": 0
      },
      "text/plain": [
       "HBox(children=(IntProgress(value=0, description='Epoch', max=12), HTML(value='')))"
      ]
     },
     "metadata": {},
     "output_type": "display_data"
    },
    {
     "name": "stdout",
     "output_type": "stream",
     "text": [
      "epoch      trn_loss   val_loss                              \n",
      "    0      5.926366   5.641965  \n",
      "    1      4.277055   4.733568                              \n",
      "    2      3.918411   4.299195                              \n",
      "    3      3.585816   4.036121                              \n",
      "    4      3.309927   3.808351                              \n",
      "    5      3.10717    3.710067                              \n",
      "    6      3.135779   3.559877                              \n",
      "    7      2.814062   3.547565                              \n",
      "    8      2.744635   3.51729                               \n",
      "    9      2.560903   3.520077                              \n",
      "    10     2.297532   3.569727                              \n",
      "    11     2.258789   3.614478                              \n",
      "\n"
     ]
    },
    {
     "data": {
      "text/plain": [
       "[array([3.61448])]"
      ]
     },
     "execution_count": 71,
     "metadata": {},
     "output_type": "execute_result"
    }
   ],
   "source": [
    "learn.fit(3e-3, 1, cycle_len=12, use_clr=(20, 10))"
   ]
  },
  {
   "cell_type": "code",
   "execution_count": 72,
   "metadata": {},
   "outputs": [
    {
     "name": "stdout",
     "output_type": "stream",
     "text": [
      "_bos_ pouvez - vous dire comment votre bagage culturel vous a aidée à aborder votre nouvelle vie au canada ( à vous adapter au mode de vie canadien ) ? _eos_\n",
      "_bos_ what are some things from your cultural background that have helped you navigate canadian life ( helped you adjust to life in canada ) ? _eos_\n",
      "_bos_ what is your personal to your your your to to to your to your to your your to your ? ? ? ? _eos_ _eos_\n",
      "\n",
      "_bos_ pour la gestion de crises , pour la défense du territoire , pour la lutte contre les nouvelles menaces terroristes , pour la projection de forces à l' extérieur du\n",
      "_bos_ where do our interests lie as regards management of crises , defending europe , fighting new terrorist threats , deployment of forces outside europe and armament\n",
      "_bos_ where is the for the security the the the the the the the the the ? ? ? ? _eos_ _eos_\n",
      "\n",
      "_bos_ quelles mesures sont prises par les pouvoirs publics assurer la qualité des services sociaux , en particulier les services rendus par les prestataires privés comme le croissant rouge ? _eos_\n",
      "_bos_ what measures are taken by the authorities to ensure the quality of services , particularly ones provided by private bodies such as the red crescent ?\n",
      "_bos_ what measures are the public by the services by the services the services by the , of of services the ? ? ? ? _eos_ _eos_\n",
      "\n",
      "_bos_ quelles sont les priorités cernées au niveau de l' entente et sont - elles articulées d' une façon qui permet aux partenaires d' allouer les ressources de manière stratégique ?\n",
      "_bos_ what are the priorities identified at the agreement level and are they articulated in a manner that enables partners to allocate resources in a manner that\n",
      "_bos_ what are the the in in and and and and and to to to to to the the the the ? ? ? ? _eos_ _eos_\n",
      "\n",
      "_bos_ que peut faire le gouvernement britannique pour éviter que les communautés musulmanes ne soient pas marginalisées du fait des mesures ou de la politique antiterroristes du gouvernement ? _eos_\n",
      "_bos_ what can the uk government do to ensure that muslim communities are not marginalised as a result of government anti - terror measures or policy ?\n",
      "_bos_ what can the government government government government to prevent the the government the the the the the the of the ? ? ? ? _eos_\n",
      "\n",
      "_bos_ quelles sont les initiatives que les organisations musulmanes devraient prendre pour soutenir la cohésion de la communauté et éviter la marginalisation des musulmans à la suite des attentats de londres\n",
      "_bos_ what initiatives should be taken by muslim organisations to support community cohesion and to avert marginalisaton of muslims in the aftermath of the london bombings ?\n",
      "_bos_ what initiatives should be undertaken to strengthen strengthen the the the the the the of the the of of the the of of the ? ?\n",
      "\n",
      "_bos_ que pensez - vous des critiques formulées par le parlement à l' encontre de la t_up das , telles qu' énoncées dans le rapport sur la décharge 2003 et les\n",
      "_bos_ what do you think of parliament 's criticisms of the t_up das as expressed in the 2003 discharge report and the working documents to the financial\n",
      "_bos_ what do you think the the the the the the the the the the the the the the the the the the the the the the\n",
      "\n",
      "_bos_ quel est le rôle actuel du conseil consultatif public établi sous l’ égide du groupe de travail joint de l’ t_up apce et de la douma d’ etat russe ?\n",
      "_bos_ what is the current role of the public consultative council established under the aegis of the joint working group of the t_up pace and the russian\n",
      "_bos_ what is the council council of the council the the the the the the the the the the the the the the the the the ?\n",
      "\n",
      "_bos_ comment oublier le sourire joyeux de cindy klassen , qui a gagné cinq médailles , y compris l’ or , en patinage de vitesse , devenant ainsi l’ athlète la\n",
      "_bos_ who could forget the joyous smile of cindy klassen , who won five medals , including gold , in speedskating to become canada ’s most decorated\n",
      "_bos_ what do you , the the the the the the the the the the the the the the the the the the the the ? ?\n",
      "\n",
      "_bos_ pourquoi n’ avait - il pas mentionné son frère lorsqu’ on lui a demandé d’ énumérer les noms des membres de sa famille immédiate ayant participé à une activité criminelle\n",
      "_bos_ why had he not mentioned his brother when he was asked to list the names of any immediate family members who had been involved in criminal\n",
      "_bos_ why was he not he he he he he the he the the he the the the the the the the the the the the ?\n",
      "\n"
     ]
    }
   ],
   "source": [
    "x,y = next(iter(val_dl))\n",
    "probs = s2s_bidir(V(x))\n",
    "preds = to_np(probs.max(2)[1])\n",
    "\n",
    "for i in range(100, 110):\n",
    "    print(' '.join([fr_itos[o] for o in x[:,i] if o != 1]))\n",
    "    print(' '.join([en_itos[o] for o in y[:,i] if o != 1]))\n",
    "    print(' '.join([en_itos[o] for o in preds[:, i] if o!=1]))\n",
    "    print()"
   ]
  }
 ],
 "metadata": {
  "kernelspec": {
   "display_name": "Python 3",
   "language": "python",
   "name": "python3"
  },
  "language_info": {
   "codemirror_mode": {
    "name": "ipython",
    "version": 3
   },
   "file_extension": ".py",
   "mimetype": "text/x-python",
   "name": "python",
   "nbconvert_exporter": "python",
   "pygments_lexer": "ipython3",
   "version": "3.6.3"
  }
 },
 "nbformat": 4,
 "nbformat_minor": 2
}
