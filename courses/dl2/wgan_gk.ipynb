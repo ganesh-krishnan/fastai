{
 "cells": [
  {
   "cell_type": "code",
   "execution_count": 1,
   "metadata": {},
   "outputs": [],
   "source": [
    "%matplotlib inline\n",
    "%reload_ext autoreload\n",
    "%autoreload 2"
   ]
  },
  {
   "cell_type": "code",
   "execution_count": 2,
   "metadata": {},
   "outputs": [],
   "source": [
    "import torch\n",
    "torch.cuda.set_device(0)\n",
    "from torch import nn\n",
    "from fastai import *\n",
    "from fastai.conv_learner import *\n",
    "from pathlib import Path\n",
    "import pandas as pd\n",
    "import numpy as np\n",
    "import random\n",
    "import matplotlib.pyplot as plt \n",
    "import matplotlib.image as im"
   ]
  },
  {
   "cell_type": "markdown",
   "metadata": {},
   "source": [
    "### Load Data"
   ]
  },
  {
   "cell_type": "code",
   "execution_count": 3,
   "metadata": {},
   "outputs": [],
   "source": [
    "PATH = Path('/mnt/data/extracts/lsun/')\n",
    "IMG_PATH = PATH/'bedroom'\n",
    "TMP_PATH = PATH/'tmp'\n",
    "TMP_PATH.mkdir(exist_ok=True)"
   ]
  },
  {
   "cell_type": "code",
   "execution_count": 204,
   "metadata": {},
   "outputs": [],
   "source": [
    "sample = False\n",
    "files = sorted(PATH.glob('bedroom/**/*.jpg'))\n",
    "if sample:\n",
    "    CSV_PATH = PATH/'files_sample.csv'\n",
    "else:\n",
    "    CSV_PATH = PATH/'files.csv'\n",
    "\n",
    "with CSV_PATH.open('w') as fo:\n",
    "    for f in files:\n",
    "        if (random.random() < 0.1 and sample) or not sample: \n",
    "            fo.write(f'{f.relative_to(IMG_PATH)},0\\n')"
   ]
  },
  {
   "cell_type": "code",
   "execution_count": 205,
   "metadata": {},
   "outputs": [],
   "source": [
    "sz = 64\n",
    "tfms = tfms_from_stats(inception_stats, sz)\n",
    "md = ImageClassifierData.from_csv(PATH, 'bedroom', CSV_PATH, tfms=tfms, bs=128,\n",
    "                                  skip_header=False, continuous=True)"
   ]
  },
  {
   "cell_type": "code",
   "execution_count": 206,
   "metadata": {},
   "outputs": [
    {
     "data": {
      "application/vnd.jupyter.widget-view+json": {
       "model_id": "c7457e2b4d2b4100a7123c9c939e195c",
       "version_major": 2,
       "version_minor": 0
      },
      "text/plain": [
       "HBox(children=(IntProgress(value=0, max=6), HTML(value='')))"
      ]
     },
     "metadata": {},
     "output_type": "display_data"
    },
    {
     "name": "stdout",
     "output_type": "stream",
     "text": [
      "                                                        \n"
     ]
    }
   ],
   "source": [
    "md = md.resize(128)"
   ]
  },
  {
   "cell_type": "code",
   "execution_count": 7,
   "metadata": {},
   "outputs": [
    {
     "data": {
      "text/plain": [
       "<matplotlib.image.AxesImage at 0x7f0e378b7b00>"
      ]
     },
     "execution_count": 7,
     "metadata": {},
     "output_type": "execute_result"
    },
    {
     "data": {
      "image/png": "[encoded data removed]",
      "text/plain": [
       "<Figure size 432x288 with 1 Axes>"
      ]
     },
     "metadata": {},
     "output_type": "display_data"
    }
   ],
   "source": [
    "x, y = next(iter(md.trn_dl))\n",
    "plt.imshow(np.squeeze(md.trn_ds.denorm(x[0])))"
   ]
  },
  {
   "cell_type": "markdown",
   "metadata": {},
   "source": [
    "### Architecture"
   ]
  },
  {
   "cell_type": "markdown",
   "metadata": {},
   "source": [
    "#### Discriminator Block"
   ]
  },
  {
   "cell_type": "code",
   "execution_count": 207,
   "metadata": {},
   "outputs": [],
   "source": [
    "def calc_padding(ni, no, ks, stride):\n",
    "    return ((no - 1) * stride + ks - ni)//2"
   ]
  },
  {
   "cell_type": "code",
   "execution_count": 208,
   "metadata": {},
   "outputs": [],
   "source": [
    "class ConvBlock(nn.Module):\n",
    "    def __init__(self, ni, no, ks):\n",
    "        super(ConvBlock, self).__init__()\n",
    "        self.c1 = nn.Conv2d(ni, 2*ni, ks, stride=1)\n",
    "        self.c2 = nn.Conv2d(2*ni, no, ks, stride=2, bias=False)\n",
    "        self.bn = nn.BatchNorm2d(no)\n",
    "        self.relu = nn.LeakyReLU(0.2, inplace=True)\n",
    "        layer_list = [self.c1, self.c2, self.bn, self.relu]\n",
    "        \n",
    "    def forward(self, x):\n",
    "        x = self.c1(x)\n",
    "        x = self.c2(x)\n",
    "        x = self.bn(x)\n",
    "        x = self.relu(x)\n",
    "        return x"
   ]
  },
  {
   "cell_type": "code",
   "execution_count": 209,
   "metadata": {},
   "outputs": [],
   "source": [
    "class DCGAN_D(nn.Module):\n",
    "    def __init__(self):\n",
    "        super(DCGAN_D, self).__init__()\n",
    "        self.cb1 = ConvBlock(3, 64, 3)\n",
    "        self.cb2 = ConvBlock(64, 128, 3)\n",
    "        self.cb3 = ConvBlock(128, 256, 3)\n",
    "        self.cb4 = ConvBlock(256, 512, 3)\n",
    "        self.pool = nn.AdaptiveAvgPool2d(1)\n",
    "        layer_list = [self.cb1, self.cb2, self.cb3, self.cb4, self.pool]\n",
    "    \n",
    "    def forward(self, x):\n",
    "        x = self.cb1(x)\n",
    "        x = self.cb2(x)\n",
    "        x = self.cb3(x)\n",
    "        x = self.cb4(x)\n",
    "        x = self.pool(x)\n",
    "        return x.mean()"
   ]
  },
  {
   "cell_type": "markdown",
   "metadata": {},
   "source": [
    "### Generator Block"
   ]
  },
  {
   "cell_type": "code",
   "execution_count": 210,
   "metadata": {},
   "outputs": [],
   "source": [
    "bs, nz = 128, 100"
   ]
  },
  {
   "cell_type": "code",
   "execution_count": 211,
   "metadata": {},
   "outputs": [],
   "source": [
    "def create_noise(bs): return V(torch.zeros(bs, nz, 1, 1).normal_(0, 1))"
   ]
  },
  {
   "cell_type": "code",
   "execution_count": 212,
   "metadata": {},
   "outputs": [],
   "source": [
    "class DeconvBlock(nn.Module):\n",
    "    def __init__(self, ni, no):\n",
    "        super(DeconvBlock, self).__init__()\n",
    "        self.d1 = nn.ConvTranspose2d(ni, no, kernel_size=4, stride=2, padding=1, bias=False)\n",
    "        self.bn = nn.BatchNorm2d(no)\n",
    "        self.relu = nn.ReLU(inplace=True)\n",
    "        \n",
    "    def forward(self, x):\n",
    "        x = self.d1(x)\n",
    "        x = self.bn(x)\n",
    "        x = self.relu(x)\n",
    "        return x"
   ]
  },
  {
   "cell_type": "code",
   "execution_count": 213,
   "metadata": {},
   "outputs": [],
   "source": [
    "class DCGAN_G(nn.Module):\n",
    "    def __init__(self, nz, n1=1024):\n",
    "        super(DCGAN_G, self).__init__()\n",
    "        self.db1 = DeconvBlock(nz, n1//2)\n",
    "        self.db2 = DeconvBlock(n1 // 2, n1 // 4)\n",
    "        self.db3 = DeconvBlock(n1 // 4, n1 // 8)\n",
    "        self.db4 = DeconvBlock(n1 // 8, n1 // 16)\n",
    "        self.db5 = DeconvBlock(n1 // 16, n1 // 32)\n",
    "        self.db6 = nn.ConvTranspose2d(n1 // 32, 3, kernel_size=4, stride=2, padding=1, bias=False)\n",
    "        \n",
    "    def forward(self, x):\n",
    "        x = self.db1(x)\n",
    "        x = self.db2(x)\n",
    "        x = self.db3(x)\n",
    "        x = self.db4(x)\n",
    "        x = self.db5(x)\n",
    "        x = self.db6(x)\n",
    "        x = F.tanh(x)\n",
    "        return x"
   ]
  },
  {
   "cell_type": "code",
   "execution_count": 214,
   "metadata": {},
   "outputs": [],
   "source": [
    "class ConvBlock1(nn.Module):\n",
    "    def __init__(self, ni, no, ks, stride, bn=True, pad=None):\n",
    "        super().__init__()\n",
    "        if pad is None: pad = ks//2//stride\n",
    "        self.conv = nn.Conv2d(ni, no, ks, stride, padding=pad, bias=False)\n",
    "        self.bn = nn.BatchNorm2d(no) if bn else None\n",
    "        self.relu = nn.LeakyReLU(0.2, inplace=True)\n",
    "    \n",
    "    def forward(self, x):\n",
    "        x = self.relu(self.conv(x))\n",
    "        return self.bn(x) if self.bn else x\n",
    "    \n",
    "class DCGAN_D1(nn.Module):\n",
    "    def __init__(self, isize, nc, ndf, n_extra_layers=0):\n",
    "        super().__init__()\n",
    "        assert isize % 16 == 0, \"isize has to be a multiple of 16\"\n",
    "\n",
    "        self.initial = ConvBlock1(nc, ndf, 4, 2, bn=False)\n",
    "        csize,cndf = isize/2,ndf\n",
    "        self.extra = nn.Sequential(*[ConvBlock1(cndf, cndf, 3, 1)\n",
    "                                    for t in range(n_extra_layers)])\n",
    "\n",
    "        pyr_layers = []\n",
    "        while csize > 4:\n",
    "            pyr_layers.append(ConvBlock1(cndf, cndf*2, 4, 2))\n",
    "            cndf *= 2; csize /= 2\n",
    "        self.pyramid = nn.Sequential(*pyr_layers)\n",
    "        \n",
    "        self.final = nn.Conv2d(cndf, 1, 4, padding=0, bias=False)\n",
    "\n",
    "    def forward(self, input):\n",
    "        x = self.initial(input)\n",
    "        x = self.extra(x)\n",
    "        x = self.pyramid(x)\n",
    "        return self.final(x).mean(0).view(1)\n",
    "\n",
    "class DeconvBlock1(nn.Module):\n",
    "    def __init__(self, ni, no, ks, stride, pad, bn=True):\n",
    "        super().__init__()\n",
    "        self.conv = nn.ConvTranspose2d(ni, no, ks, stride, padding=pad, bias=False)\n",
    "        self.bn = nn.BatchNorm2d(no)\n",
    "        self.relu = nn.ReLU(inplace=True)\n",
    "        \n",
    "    def forward(self, x):\n",
    "        x = self.relu(self.conv(x))\n",
    "        return self.bn(x) if self.bn else x\n",
    "    \n",
    "class DCGAN_G1(nn.Module):\n",
    "    def __init__(self, isize, nz, nc, ngf, n_extra_layers=0):\n",
    "        super().__init__()\n",
    "        assert isize % 16 == 0, \"isize has to be a multiple of 16\"\n",
    "\n",
    "        cngf, tisize = ngf//2, 4\n",
    "        while tisize!=isize: cngf*=2; tisize*=2\n",
    "        layers = [DeconvBlock1(nz, cngf, 4, 1, 0)]\n",
    "\n",
    "        csize, cndf = 4, cngf\n",
    "        while csize < isize//2:\n",
    "            layers.append(DeconvBlock1(cngf, cngf//2, 4, 2, 1))\n",
    "            cngf //= 2; csize *= 2\n",
    "\n",
    "        layers += [DeconvBlock1(cngf, cngf, 3, 1, 1) for t in range(n_extra_layers)]\n",
    "        layers.append(nn.ConvTranspose2d(cngf, nc, 4, 2, 1, bias=False))\n",
    "        self.features = nn.Sequential(*layers)\n",
    "\n",
    "    def forward(self, input): return F.tanh(self.features(input))"
   ]
  },
  {
   "cell_type": "code",
   "execution_count": 245,
   "metadata": {},
   "outputs": [],
   "source": [
    "gk = True\n",
    "dm = to_gpu(DCGAN_D())\n",
    "gm = to_gpu(DCGAN_G(nz))\n",
    "gm1 = to_gpu(DCGAN_G1(sz, nz, 3, 64, 1))\n",
    "dm1 = to_gpu(DCGAN_D1(sz, 3, 64, 1))\n",
    "if not gk:\n",
    "    dm = dm1\n",
    "    gm = gm1\n",
    "opt_d = optim.RMSprop(dm.parameters(), lr=1e-4)\n",
    "opt_g = optim.RMSprop(gm.parameters(), lr=1e-4)"
   ]
  },
  {
   "cell_type": "code",
   "execution_count": 246,
   "metadata": {},
   "outputs": [],
   "source": [
    "def train(n_epochs, bs):\n",
    "    g_iter = 0\n",
    "    gm.train();\n",
    "    dm.train();\n",
    "    for epoch in range(n_epochs):\n",
    "        trn_it = iter(md.trn_dl)\n",
    "        cb, nb = 0, len(md.trn_dl)\n",
    "        with tqdm_notebook(total=nb) as pbar:\n",
    "            while cb < nb:\n",
    "                set_trainable(dm, True)\n",
    "                set_trainable(gm, False)\n",
    "                n_crit = 0 if g_iter < 25 or g_iter % 500 == 0 else 5\n",
    "                diter = 0\n",
    "                while diter <= n_crit and cb < nb:\n",
    "                    dm.zero_grad()\n",
    "                    for param in dm.parameters(): param.data.clamp_(-0.01, 0.01)\n",
    "                    actual_img, _  = V(next(trn_it))\n",
    "                    diter += 1\n",
    "                    cb += 1\n",
    "                    priors = create_noise(bs)\n",
    "                    actual_act = dm(actual_img)\n",
    "                    gen_img = gm(priors)\n",
    "                    gen_act = dm(gen_img)\n",
    "                    diff = actual_act - gen_act\n",
    "                    diff.backward()\n",
    "                    opt_d.step()\n",
    "                    pbar.update()\n",
    "                set_trainable(gm, True)\n",
    "                set_trainable(dm, False)\n",
    "                priors = create_noise(bs)\n",
    "                gm.zero_grad()\n",
    "                act = dm(gm(priors)).mean(0).view(1)\n",
    "                act.backward()\n",
    "                opt_g.step()\n",
    "                g_iter += 1"
   ]
  },
  {
   "cell_type": "code",
   "execution_count": 247,
   "metadata": {},
   "outputs": [
    {
     "data": {
      "application/vnd.jupyter.widget-view+json": {
       "model_id": "b485d1a6eeb94fbc858d7fa7d40430d2",
       "version_major": 2,
       "version_minor": 0
      },
      "text/plain": [
       "HBox(children=(IntProgress(value=0, max=1895), HTML(value='')))"
      ]
     },
     "metadata": {},
     "output_type": "display_data"
    },
    {
     "name": "stdout",
     "output_type": "stream",
     "text": [
      "\n"
     ]
    }
   ],
   "source": [
    "train(1, bs)"
   ]
  },
  {
   "cell_type": "code",
   "execution_count": 249,
   "metadata": {},
   "outputs": [
    {
     "data": {
      "application/vnd.jupyter.widget-view+json": {
       "model_id": "58a11f2b43ca41658daa2bed87811b06",
       "version_major": 2,
       "version_minor": 0
      },
      "text/plain": [
       "HBox(children=(IntProgress(value=0, max=1895), HTML(value='')))"
      ]
     },
     "metadata": {},
     "output_type": "display_data"
    },
    {
     "name": "stdout",
     "output_type": "stream",
     "text": [
      "\n"
     ]
    }
   ],
   "source": [
    "set_trainable(dm, True)\n",
    "set_trainable(gm, True)\n",
    "opt_d = optim.RMSprop(dm.parameters(), lr=1e-5)\n",
    "opt_g = optim.RMSprop(gm.parameters(), lr=1e-5)\n",
    "train(1, bs)"
   ]
  },
  {
   "cell_type": "code",
   "execution_count": 250,
   "metadata": {},
   "outputs": [],
   "source": [
    "gm.eval();"
   ]
  },
  {
   "cell_type": "code",
   "execution_count": 251,
   "metadata": {},
   "outputs": [],
   "source": [
    "abc = gm(create_noise(bs))"
   ]
  },
  {
   "cell_type": "code",
   "execution_count": 252,
   "metadata": {},
   "outputs": [
    {
     "data": {
      "text/plain": [
       "<matplotlib.image.AxesImage at 0x7f0e62c0b7b8>"
      ]
     },
     "execution_count": 252,
     "metadata": {},
     "output_type": "execute_result"
    },
    {
     "data": {
      "image/png": "[encoded data removed]",
      "text/plain": [
       "<Figure size 432x288 with 1 Axes>"
      ]
     },
     "metadata": {},
     "output_type": "display_data"
    }
   ],
   "source": [
    "plt.imshow(np.clip(np.squeeze(md.trn_ds.denorm(abc[1])), 0, 1))"
   ]
  }
 ],
 "metadata": {
  "kernelspec": {
   "display_name": "Python 3",
   "language": "python",
   "name": "python3"
  },
  "language_info": {
   "codemirror_mode": {
    "name": "ipython",
    "version": 3
   },
   "file_extension": ".py",
   "mimetype": "text/x-python",
   "name": "python",
   "nbconvert_exporter": "python",
   "pygments_lexer": "ipython3",
   "version": "3.6.3"
  }
 },
 "nbformat": 4,
 "nbformat_minor": 2
}
