{
 "cells": [
  {
   "cell_type": "code",
   "execution_count": 1,
   "metadata": {},
   "outputs": [],
   "source": [
    "%reload_ext autoreload\n",
    "%autoreload 2\n",
    "%matplotlib inline\n",
    "import torch.nn as nn\n",
    "import torch.nn.functional as F\n",
    "from torch.autograd import Variable\n",
    "import torch\n",
    "from fastai import *\n",
    "from fastai.io import *\n",
    "from fastai.conv_learner import *\n",
    "from fastai.column_data import *\n",
    "torch.cuda.set_device(0)\n",
    "import numpy as np\n",
    "import pandas as pd\n",
    "from pathlib import Path"
   ]
  },
  {
   "cell_type": "markdown",
   "metadata": {},
   "source": [
    "### Load Data"
   ]
  },
  {
   "cell_type": "code",
   "execution_count": 2,
   "metadata": {},
   "outputs": [],
   "source": [
    "PATH = Path('/mnt/data/extracts/rnns/')\n",
    "txt = (PATH/'nietzsche.txt').read_text()"
   ]
  },
  {
   "cell_type": "markdown",
   "metadata": {},
   "source": [
    "### Create Vocab"
   ]
  },
  {
   "cell_type": "code",
   "execution_count": 3,
   "metadata": {},
   "outputs": [],
   "source": [
    "chars = set(txt)\n",
    "padding_char = \"\\0\"\n",
    "chars.add(padding_char)\n",
    "chars = sorted(list(chars))\n",
    "c2i = {c:i for i, c in enumerate(chars)}\n",
    "i2c = {i:c for i, c in enumerate(chars)}\n",
    "vocab_size = len(c2i)"
   ]
  },
  {
   "cell_type": "markdown",
   "metadata": {},
   "source": [
    "### Convert Text"
   ]
  },
  {
   "cell_type": "code",
   "execution_count": 4,
   "metadata": {},
   "outputs": [],
   "source": [
    "inp = [c2i[c] for c in txt]"
   ]
  },
  {
   "cell_type": "code",
   "execution_count": 5,
   "metadata": {},
   "outputs": [],
   "source": [
    "x1 = [inp[i] for i in range(0, len(inp) - 3, 3)]\n",
    "x2 = [inp[i] for i in range(1, len(inp) - 3, 3)]\n",
    "x3 = [inp[i] for i in range(2, len(inp) - 2, 3)]\n",
    "x4 = [inp[i] for i in range(3, len(inp) - 1, 3)]"
   ]
  },
  {
   "cell_type": "code",
   "execution_count": 6,
   "metadata": {},
   "outputs": [],
   "source": [
    "x = np.concatenate([np.vstack(x1), np.vstack(x2), np.vstack(x3)], axis=1)\n",
    "y = np.stack(x4)"
   ]
  },
  {
   "cell_type": "markdown",
   "metadata": {},
   "source": [
    "### Build 3 char Model"
   ]
  },
  {
   "cell_type": "code",
   "execution_count": 82,
   "metadata": {},
   "outputs": [],
   "source": [
    "class char3_rnn(nn.Module):\n",
    "    def __init__(self, vocab_size, n_fac, n_hidden):\n",
    "        super(char_rnn, self).__init__()\n",
    "        self.emb = nn.Embedding(vocab_size, n_fac)\n",
    "        self.input = nn.Linear(n_fac, n_fac)\n",
    "        self.hidden = nn.Linear(n_fac, n_fac)\n",
    "        self.output = nn.Linear(n_fac, vocab_size)\n",
    "        \n",
    "    def forward(self, c1, c2, c3):\n",
    "        x1 = F.relu(self.input(self.emb(c1)))\n",
    "        x2 = F.relu(self.input(self.emb(c2)))\n",
    "        x3 = F.relu(self.input(self.emb(c3)))\n",
    "        \n",
    "        h = V(torch.zeros(x1.size()))\n",
    "        h = F.tanh(self.hidden(h + x1))\n",
    "        h = F.tanh(self.hidden(h + x2))\n",
    "        h = F.tanh(self.hidden(h + x3))\n",
    "        return F.log_softmax(self.output(h))"
   ]
  },
  {
   "cell_type": "code",
   "execution_count": 83,
   "metadata": {},
   "outputs": [],
   "source": [
    "md = ColumnarModelData.from_arrays(PATH, [-1], xs=x, y=y, bs=14)"
   ]
  },
  {
   "cell_type": "code",
   "execution_count": 84,
   "metadata": {},
   "outputs": [],
   "source": [
    "it = iter(md.trn_dl)\n",
    "*c, c4 = next(it)"
   ]
  },
  {
   "cell_type": "code",
   "execution_count": 85,
   "metadata": {},
   "outputs": [],
   "source": [
    "ch = char3_rnn(vocab_size, 256, 256).cuda()\n",
    "opt = optim.Adam(ch.parameters(), lr=0.001)\n",
    "crit = F.nll_loss"
   ]
  },
  {
   "cell_type": "code",
   "execution_count": 86,
   "metadata": {},
   "outputs": [
    {
     "data": {
      "application/vnd.jupyter.widget-view+json": {
       "model_id": "5397e40323da44a796601d57b7f05ab2",
       "version_major": 2,
       "version_minor": 0
      },
      "text/plain": [
       "HBox(children=(IntProgress(value=0, description='Epoch', max=1), HTML(value='')))"
      ]
     },
     "metadata": {},
     "output_type": "display_data"
    },
    {
     "name": "stdout",
     "output_type": "stream",
     "text": [
      " 10%|█         | 1471/14307 [00:07<01:08, 188.20it/s, loss=2.34]\n",
      "epoch      trn_loss   val_loss                                   \n",
      "    0      1.911082   0.698806  \n",
      "\n"
     ]
    },
    {
     "data": {
      "text/plain": [
       "[0.6988058090209961]"
      ]
     },
     "execution_count": 86,
     "metadata": {},
     "output_type": "execute_result"
    }
   ],
   "source": [
    "fit(ch, md, 1, opt, crit)"
   ]
  },
  {
   "cell_type": "code",
   "execution_count": 7,
   "metadata": {},
   "outputs": [],
   "source": [
    "def predict(mod, word):\n",
    "    x = [c2i[c] for c in word]\n",
    "    probs = mod(*V(x)).data.cpu()\n",
    "    idx = np.argmax(probs)\n",
    "    return i2c[idx]"
   ]
  },
  {
   "cell_type": "code",
   "execution_count": 139,
   "metadata": {},
   "outputs": [
    {
     "data": {
      "text/plain": [
       "'y'"
      ]
     },
     "execution_count": 139,
     "metadata": {},
     "output_type": "execute_result"
    }
   ],
   "source": [
    "predict(ch, 'cit')"
   ]
  },
  {
   "cell_type": "markdown",
   "metadata": {},
   "source": [
    "### Build RNN"
   ]
  },
  {
   "cell_type": "code",
   "execution_count": 8,
   "metadata": {},
   "outputs": [],
   "source": [
    "cs = 7\n",
    "x = [[inp[i + j] for j in range(0, cs)] for i in range(0, len(inp) - cs - 7, cs)]\n",
    "y = [inp[i] for i in range(cs, len(inp) - cs, cs)]\n",
    "x = np.array(x)\n",
    "y = np.stack(y)"
   ]
  },
  {
   "cell_type": "code",
   "execution_count": 360,
   "metadata": {},
   "outputs": [],
   "source": [
    "class char_rnn(nn.Module):\n",
    "    def __init__(self, vocab_size, n_fac, n_hidden):\n",
    "        super(char_rnn, self).__init__()\n",
    "        self.n_hidden = n_hidden\n",
    "        self.emb = nn.Embedding(vocab_size, n_fac, padding_idx=0)\n",
    "        self.inp = nn.Linear(n_fac, n_hidden)\n",
    "        self.hidden = nn.Linear(n_hidden, n_hidden)\n",
    "        self.out = nn.Linear(n_hidden, vocab_size)\n",
    "        \n",
    "    def forward(self, *cs):\n",
    "        bs = cs[0].size(0)\n",
    "        h = V(torch.zeros(bs, self.n_hidden).cuda())\n",
    "        for c in cs:\n",
    "            x = F.relu(self.inp(self.emb(c)))\n",
    "            h = F.tanh(self.hidden(h + x))\n",
    "        return F.log_softmax(self.out(h))"
   ]
  },
  {
   "cell_type": "code",
   "execution_count": 361,
   "metadata": {},
   "outputs": [],
   "source": [
    "cr = char_rnn(vocab_size, 50, 256).cuda()"
   ]
  },
  {
   "cell_type": "code",
   "execution_count": 16,
   "metadata": {},
   "outputs": [],
   "source": [
    "md = ColumnarModelData.from_arrays(PATH, [-1], x, y, bs=512)"
   ]
  },
  {
   "cell_type": "code",
   "execution_count": 18,
   "metadata": {},
   "outputs": [
    {
     "ename": "NameError",
     "evalue": "name 'cr' is not defined",
     "output_type": "error",
     "traceback": [
      "\u001b[0;31m---------------------------------------------------------------------------\u001b[0m",
      "\u001b[0;31mNameError\u001b[0m                                 Traceback (most recent call last)",
      "\u001b[0;32m<ipython-input-18-02f156135829>\u001b[0m in \u001b[0;36m<module>\u001b[0;34m()\u001b[0m\n\u001b[0;32m----> 1\u001b[0;31m \u001b[0mopt\u001b[0m \u001b[0;34m=\u001b[0m \u001b[0moptim\u001b[0m\u001b[0;34m.\u001b[0m\u001b[0mAdam\u001b[0m\u001b[0;34m(\u001b[0m\u001b[0mcr\u001b[0m\u001b[0;34m.\u001b[0m\u001b[0mparameters\u001b[0m\u001b[0;34m(\u001b[0m\u001b[0;34m)\u001b[0m\u001b[0;34m,\u001b[0m \u001b[0mlr\u001b[0m\u001b[0;34m=\u001b[0m\u001b[0;36m0.001\u001b[0m\u001b[0;34m)\u001b[0m\u001b[0;34m\u001b[0m\u001b[0m\n\u001b[0m\u001b[1;32m      2\u001b[0m \u001b[0mcrit\u001b[0m \u001b[0;34m=\u001b[0m \u001b[0mF\u001b[0m\u001b[0;34m.\u001b[0m\u001b[0mnll_loss\u001b[0m\u001b[0;34m\u001b[0m\u001b[0m\n",
      "\u001b[0;31mNameError\u001b[0m: name 'cr' is not defined"
     ]
    }
   ],
   "source": [
    "opt = optim.Adam(cr.parameters(), lr=0.001)\n",
    "crit = F.nll_loss"
   ]
  },
  {
   "cell_type": "code",
   "execution_count": 364,
   "metadata": {},
   "outputs": [
    {
     "data": {
      "application/vnd.jupyter.widget-view+json": {
       "model_id": "0d2813e4befd4cd988b42b02ffb4ee4f",
       "version_major": 2,
       "version_minor": 0
      },
      "text/plain": [
       "HBox(children=(IntProgress(value=0, description='Epoch', max=1), HTML(value='')))"
      ]
     },
     "metadata": {},
     "output_type": "display_data"
    },
    {
     "name": "stdout",
     "output_type": "stream",
     "text": [
      "epoch      trn_loss   val_loss                              \n",
      "    0      2.413876   0.779971  \n",
      "\n"
     ]
    },
    {
     "data": {
      "text/plain": [
       "[0.779970645904541]"
      ]
     },
     "execution_count": 364,
     "metadata": {},
     "output_type": "execute_result"
    }
   ],
   "source": [
    "fit(cr, md, 1, opt, crit)"
   ]
  },
  {
   "cell_type": "code",
   "execution_count": 365,
   "metadata": {},
   "outputs": [
    {
     "data": {
      "application/vnd.jupyter.widget-view+json": {
       "model_id": "b8f53d7c4a3440a987754ea8dbbd0a4c",
       "version_major": 2,
       "version_minor": 0
      },
      "text/plain": [
       "HBox(children=(IntProgress(value=0, description='Epoch', max=1), HTML(value='')))"
      ]
     },
     "metadata": {},
     "output_type": "display_data"
    },
    {
     "name": "stdout",
     "output_type": "stream",
     "text": [
      "epoch      trn_loss   val_loss                              \n",
      "    0      2.131076   0.492571  \n",
      "\n"
     ]
    },
    {
     "data": {
      "text/plain": [
       "[0.4925713539123535]"
      ]
     },
     "execution_count": 365,
     "metadata": {},
     "output_type": "execute_result"
    }
   ],
   "source": [
    "fit(cr, md, 1, opt, crit)"
   ]
  },
  {
   "cell_type": "code",
   "execution_count": 366,
   "metadata": {},
   "outputs": [
    {
     "data": {
      "application/vnd.jupyter.widget-view+json": {
       "model_id": "d045ef35eb7f459588c5f58989373657",
       "version_major": 2,
       "version_minor": 0
      },
      "text/plain": [
       "HBox(children=(IntProgress(value=0, description='Epoch', max=1), HTML(value='')))"
      ]
     },
     "metadata": {},
     "output_type": "display_data"
    },
    {
     "name": "stdout",
     "output_type": "stream",
     "text": [
      "epoch      trn_loss   val_loss                              \n",
      "    0      1.981934   0.371334  \n",
      "\n"
     ]
    },
    {
     "data": {
      "text/plain": [
       "[0.3713340759277344]"
      ]
     },
     "execution_count": 366,
     "metadata": {},
     "output_type": "execute_result"
    }
   ],
   "source": [
    "fit(cr, md, 1, opt, crit)"
   ]
  },
  {
   "cell_type": "code",
   "execution_count": 346,
   "metadata": {},
   "outputs": [
    {
     "data": {
      "application/vnd.jupyter.widget-view+json": {
       "model_id": "121f6a2602874064b108195bea22c7e1",
       "version_major": 2,
       "version_minor": 0
      },
      "text/plain": [
       "HBox(children=(IntProgress(value=0, description='Epoch', max=1), HTML(value='')))"
      ]
     },
     "metadata": {},
     "output_type": "display_data"
    },
    {
     "name": "stdout",
     "output_type": "stream",
     "text": [
      "epoch      trn_loss   val_loss                              \n",
      "    0      3.983818   3.950012  \n",
      "\n"
     ]
    },
    {
     "data": {
      "text/plain": [
       "[3.95001220703125]"
      ]
     },
     "execution_count": 346,
     "metadata": {},
     "output_type": "execute_result"
    }
   ],
   "source": [
    "opt = optim.Adam(cr.parameters(), lr=0.01)\n",
    "fit(cr, md, 1, opt, crit)"
   ]
  },
  {
   "cell_type": "code",
   "execution_count": 383,
   "metadata": {},
   "outputs": [
    {
     "data": {
      "text/plain": [
       "'e'"
      ]
     },
     "execution_count": 383,
     "metadata": {},
     "output_type": "execute_result"
    }
   ],
   "source": [
    "predict(cr, 'for thos')"
   ]
  },
  {
   "cell_type": "markdown",
   "metadata": {},
   "source": [
    "### Build RNN using PyTorch"
   ]
  },
  {
   "cell_type": "code",
   "execution_count": 9,
   "metadata": {},
   "outputs": [],
   "source": [
    "class pytorch_rnn(nn.Module):\n",
    "    def __init__(self, vocab_size, n_fac, n_inp, n_hidden):\n",
    "        super(pytorch_rnn, self).__init__()\n",
    "        self.n_hidden = n_hidden\n",
    "        self.n_inp = n_inp\n",
    "        self.emb = nn.Embedding(vocab_size, n_fac)\n",
    "        self.inp = nn.Linear(n_fac, n_inp)\n",
    "        self.rnn = nn.RNN(input_size=n_inp, hidden_size=n_hidden)\n",
    "        self.out = nn.Linear(n_hidden, vocab_size)\n",
    "    \n",
    "    def forward(self, *cs):\n",
    "        cs = torch.stack(cs)\n",
    "        seq_len, bs = cs.size()\n",
    "        h = V(torch.zeros(1, bs, self.n_hidden))\n",
    "        x = F.relu(self.inp(self.emb(cs)))\n",
    "        o, h = self.rnn(x, h)\n",
    "        p = F.log_softmax(self.out(o), dim=-1)\n",
    "        return p[-1, :, :]"
   ]
  },
  {
   "cell_type": "code",
   "execution_count": 10,
   "metadata": {},
   "outputs": [],
   "source": [
    "ptr = pytorch_rnn(vocab_size, 50, 128, 256).cuda()\n",
    "md = ColumnarModelData.from_arrays(PATH, [-1], x, y, bs=256)\n",
    "opt = optim.Adam(ptr.parameters(), lr=0.001)\n",
    "crit = F.nll_loss"
   ]
  },
  {
   "cell_type": "code",
   "execution_count": 11,
   "metadata": {},
   "outputs": [
    {
     "data": {
      "application/vnd.jupyter.widget-view+json": {
       "model_id": "b290391bc1ce4cf1b6d5d7848aa1df1a",
       "version_major": 2,
       "version_minor": 0
      },
      "text/plain": [
       "HBox(children=(IntProgress(value=0, description='Epoch', max=1), HTML(value='')))"
      ]
     },
     "metadata": {},
     "output_type": "display_data"
    },
    {
     "name": "stdout",
     "output_type": "stream",
     "text": [
      "epoch      trn_loss   val_loss                              \n",
      "    0      2.236616   0.69228   \n",
      "\n"
     ]
    },
    {
     "data": {
      "text/plain": [
       "[0.6922798156738281]"
      ]
     },
     "execution_count": 11,
     "metadata": {},
     "output_type": "execute_result"
    }
   ],
   "source": [
    "fit(ptr, md, 1, opt, crit)"
   ]
  },
  {
   "cell_type": "code",
   "execution_count": 32,
   "metadata": {},
   "outputs": [
    {
     "data": {
      "application/vnd.jupyter.widget-view+json": {
       "model_id": "da9cf733acd7474b8c8e2be4476d292a",
       "version_major": 2,
       "version_minor": 0
      },
      "text/plain": [
       "HBox(children=(IntProgress(value=0, description='Epoch', max=1), HTML(value='')))"
      ]
     },
     "metadata": {},
     "output_type": "display_data"
    },
    {
     "name": "stdout",
     "output_type": "stream",
     "text": [
      "epoch      trn_loss   val_loss                              \n",
      "    0      1.863723   0.366934  \n",
      "\n"
     ]
    },
    {
     "data": {
      "text/plain": [
       "[0.36693429946899414]"
      ]
     },
     "execution_count": 32,
     "metadata": {},
     "output_type": "execute_result"
    }
   ],
   "source": [
    "fit(ptr, md, 1, opt, crit)"
   ]
  },
  {
   "cell_type": "code",
   "execution_count": 33,
   "metadata": {},
   "outputs": [
    {
     "data": {
      "text/plain": [
       "'n'"
      ]
     },
     "execution_count": 33,
     "metadata": {},
     "output_type": "execute_result"
    }
   ],
   "source": [
    "predict(ptr, 'wome')"
   ]
  }
 ],
 "metadata": {
  "kernelspec": {
   "display_name": "Python 3",
   "language": "python",
   "name": "python3"
  },
  "language_info": {
   "codemirror_mode": {
    "name": "ipython",
    "version": 3
   },
   "file_extension": ".py",
   "mimetype": "text/x-python",
   "name": "python",
   "nbconvert_exporter": "python",
   "pygments_lexer": "ipython3",
   "version": "3.6.3"
  }
 },
 "nbformat": 4,
 "nbformat_minor": 2
}
